{
 "cells": [
  {
   "cell_type": "code",
   "execution_count": 2,
   "metadata": {},
   "outputs": [
    {
     "name": "stdout",
     "output_type": "stream",
     "text": [
      " Volume in drive C is Windows\n",
      " Volume Serial Number is DCB2-D96B\n",
      "\n",
      " Directory of C:\\Users\\leman\n",
      "\n",
      "01/07/2022  05:43 PM    <DIR>          .\n",
      "01/07/2022  05:43 PM    <DIR>          ..\n",
      "01/07/2022  04:46 PM    <DIR>          .anaconda\n",
      "10/30/2020  06:30 PM    <DIR>          .android\n",
      "01/07/2022  05:25 PM    <DIR>          .atom\n",
      "01/08/2022  03:07 PM    <DIR>          .conda\n",
      "01/07/2022  05:27 PM                43 .condarc\n",
      "01/07/2022  05:30 PM    <DIR>          .continuum\n",
      "10/15/2021  10:46 AM    <DIR>          .dotnet\n",
      "01/07/2022  05:43 PM    <DIR>          .ipynb_checkpoints\n",
      "01/07/2022  05:43 PM    <DIR>          .ipython\n",
      "10/30/2020  08:16 PM    <DIR>          .mitmproxy\n",
      "10/30/2020  06:56 PM             6,056 -1.14-windows.xml\n",
      "09/09/2020  09:16 PM    <DIR>          3D Objects\n",
      "01/07/2022  05:29 PM    <DIR>          Anaconda3\n",
      "06/10/2021  10:45 AM    <DIR>          ansel\n",
      "10/30/2020  12:37 PM    <DIR>          Apple\n",
      "09/09/2020  09:16 PM    <DIR>          Contacts\n",
      "01/07/2022  05:55 PM    <DIR>          Documents\n",
      "01/07/2022  05:40 PM    <DIR>          Downloads\n",
      "09/13/2020  09:46 PM    <DIR>          Favorites\n",
      "09/09/2020  09:16 PM    <DIR>          Links\n",
      "10/30/2020  12:32 PM    <DIR>          Music\n",
      "01/07/2022  05:30 PM    <DIR>          OneDrive\n",
      "09/09/2020  09:16 PM    <DIR>          Saved Games\n",
      "09/09/2020  09:17 PM    <DIR>          Searches\n",
      "10/02/2020  02:42 PM    <DIR>          Videos\n",
      "               2 File(s)          6,099 bytes\n",
      "              25 Dir(s)  187,400,916,992 bytes free\n"
     ]
    }
   ],
   "source": [
    "ls"
   ]
  },
  {
   "cell_type": "code",
   "execution_count": 3,
   "metadata": {},
   "outputs": [
    {
     "name": "stdout",
     "output_type": "stream",
     "text": [
      "C:\\Users\\leman\\Anaconda3\n"
     ]
    }
   ],
   "source": [
    "cd Anaconda3"
   ]
  },
  {
   "cell_type": "code",
   "execution_count": 4,
   "metadata": {},
   "outputs": [
    {
     "name": "stdout",
     "output_type": "stream",
     "text": [
      " Volume in drive C is Windows\n",
      " Volume Serial Number is DCB2-D96B\n",
      "\n",
      " Directory of C:\\Users\\leman\\Anaconda3\n",
      "\n",
      "01/07/2022  05:29 PM    <DIR>          .\n",
      "01/07/2022  05:29 PM    <DIR>          ..\n",
      "01/07/2022  05:29 PM                 0 .nonadmin\n",
      "04/20/2018  12:28 AM            19,208 api-ms-win-core-console-l1-1-0.dll\n",
      "04/20/2018  12:28 AM            18,696 api-ms-win-core-datetime-l1-1-0.dll\n",
      "04/20/2018  12:28 AM            18,696 api-ms-win-core-debug-l1-1-0.dll\n",
      "04/20/2018  12:28 AM            18,696 api-ms-win-core-errorhandling-l1-1-0.dll\n",
      "04/20/2018  12:29 AM            22,280 api-ms-win-core-file-l1-1-0.dll\n",
      "04/20/2018  12:37 AM            18,696 api-ms-win-core-file-l1-2-0.dll\n",
      "04/20/2018  12:37 AM            18,696 api-ms-win-core-file-l2-1-0.dll\n",
      "04/20/2018  12:37 AM            18,696 api-ms-win-core-handle-l1-1-0.dll\n",
      "04/20/2018  12:37 AM            19,208 api-ms-win-core-heap-l1-1-0.dll\n",
      "04/20/2018  12:37 AM            18,696 api-ms-win-core-interlocked-l1-1-0.dll\n",
      "04/20/2018  12:37 AM            19,720 api-ms-win-core-libraryloader-l1-1-0.dll\n",
      "04/20/2018  12:37 AM            21,256 api-ms-win-core-localization-l1-2-0.dll\n",
      "04/20/2018  12:37 AM            19,208 api-ms-win-core-memory-l1-1-0.dll\n",
      "04/20/2018  12:37 AM            18,696 api-ms-win-core-namedpipe-l1-1-0.dll\n",
      "04/20/2018  12:37 AM            19,720 api-ms-win-core-processenvironment-l1-1-0.dll\n",
      "04/20/2018  12:37 AM            20,744 api-ms-win-core-processthreads-l1-1-0.dll\n",
      "04/20/2018  12:37 AM            19,208 api-ms-win-core-processthreads-l1-1-1.dll\n",
      "04/20/2018  12:37 AM            18,184 api-ms-win-core-profile-l1-1-0.dll\n",
      "04/20/2018  12:37 AM            19,208 api-ms-win-core-rtlsupport-l1-1-0.dll\n",
      "04/20/2018  12:37 AM            18,696 api-ms-win-core-string-l1-1-0.dll\n",
      "04/20/2018  12:37 AM            20,744 api-ms-win-core-synch-l1-1-0.dll\n",
      "04/20/2018  12:37 AM            19,208 api-ms-win-core-synch-l1-2-0.dll\n",
      "04/20/2018  12:37 AM            19,720 api-ms-win-core-sysinfo-l1-1-0.dll\n",
      "04/20/2018  12:37 AM            19,208 api-ms-win-core-timezone-l1-1-0.dll\n",
      "04/20/2018  12:37 AM            18,696 api-ms-win-core-util-l1-1-0.dll\n",
      "04/20/2018  12:37 AM            19,720 api-ms-win-crt-conio-l1-1-0.dll\n",
      "04/20/2018  12:37 AM            22,792 api-ms-win-crt-convert-l1-1-0.dll\n",
      "04/20/2018  12:37 AM            19,208 api-ms-win-crt-environment-l1-1-0.dll\n",
      "04/20/2018  12:37 AM            20,744 api-ms-win-crt-filesystem-l1-1-0.dll\n",
      "04/20/2018  12:37 AM            19,720 api-ms-win-crt-heap-l1-1-0.dll\n",
      "04/20/2018  12:37 AM            19,208 api-ms-win-crt-locale-l1-1-0.dll\n",
      "04/20/2018  12:37 AM            27,912 api-ms-win-crt-math-l1-1-0.dll\n",
      "04/20/2018  12:37 AM            26,888 api-ms-win-crt-multibyte-l1-1-0.dll\n",
      "04/20/2018  12:37 AM            71,432 api-ms-win-crt-private-l1-1-0.dll\n",
      "04/20/2018  12:37 AM            19,720 api-ms-win-crt-process-l1-1-0.dll\n",
      "04/20/2018  12:37 AM            23,304 api-ms-win-crt-runtime-l1-1-0.dll\n",
      "04/20/2018  12:37 AM            24,840 api-ms-win-crt-stdio-l1-1-0.dll\n",
      "04/20/2018  12:37 AM            24,840 api-ms-win-crt-string-l1-1-0.dll\n",
      "04/20/2018  12:37 AM            21,256 api-ms-win-crt-time-l1-1-0.dll\n",
      "04/20/2018  12:37 AM            19,208 api-ms-win-crt-utility-l1-1-0.dll\n",
      "01/07/2022  04:45 PM    <DIR>          bin\n",
      "09/08/2020  05:10 AM           317,224 concrt140.dll\n",
      "01/07/2022  05:29 PM    <DIR>          condabin\n",
      "01/07/2022  05:29 PM    <DIR>          conda-meta\n",
      "08/28/2018  02:01 PM             1,093 cwp.py\n",
      "01/07/2022  04:37 PM    <DIR>          DLLs\n",
      "01/07/2022  04:45 PM    <DIR>          docs\n",
      "01/08/2022  03:07 PM    <DIR>          envs\n",
      "01/07/2022  04:38 PM    <DIR>          etc\n",
      "01/07/2022  04:45 PM    <DIR>          include\n",
      "01/07/2022  04:45 PM    <DIR>          Lib\n",
      "01/07/2022  04:37 PM    <DIR>          Library\n",
      "01/07/2022  04:37 PM    <DIR>          libs\n",
      "06/26/2018  11:07 PM            12,763 LICENSE_PYTHON.txt\n",
      "01/07/2022  04:45 PM    <DIR>          licenses\n",
      "01/07/2022  04:37 PM    <DIR>          man\n",
      "01/07/2022  05:29 PM    <DIR>          Menu\n",
      "09/08/2020  05:10 AM           590,632 msvcp140.dll\n",
      "09/08/2020  05:10 AM            31,528 msvcp140_1.dll\n",
      "09/08/2020  05:10 AM           193,832 msvcp140_2.dll\n",
      "09/08/2020  05:10 AM            27,936 msvcp140_codecvt_ids.dll\n",
      "01/08/2022  03:07 PM    <DIR>          pkgs\n",
      "06/28/2018  09:06 AM            93,696 python.exe\n",
      "06/28/2018  09:06 AM           430,080 python.pdb\n",
      "06/28/2018  09:06 AM            51,712 python3.dll\n",
      "06/28/2018  09:05 AM         3,843,072 python37.dll\n",
      "06/28/2018  09:05 AM         9,916,416 python37.pdb\n",
      "06/28/2018  09:06 AM            92,160 pythonw.exe\n",
      "06/28/2018  09:06 AM           430,080 pythonw.pdb\n",
      "01/07/2022  04:44 PM               255 qt.conf\n",
      "01/07/2022  05:29 PM    <DIR>          Scripts\n",
      "01/07/2022  04:45 PM    <DIR>          share\n",
      "01/07/2022  05:29 PM    <DIR>          shell\n",
      "01/07/2022  04:37 PM    <DIR>          sip\n",
      "01/07/2022  04:37 PM    <DIR>          tcl\n",
      "01/07/2022  04:37 PM    <DIR>          Tools\n",
      "04/20/2018  12:37 AM         1,016,584 ucrtbase.dll\n",
      "01/07/2022  04:38 PM           302,868 Uninstall-Anaconda3.exe\n",
      "09/08/2020  05:10 AM           337,696 vccorlib140.dll\n",
      "09/08/2020  05:10 AM           184,616 vcomp140.dll\n",
      "09/08/2020  05:10 AM           101,672 vcruntime140.dll\n",
      "09/08/2020  05:10 AM            44,328 vcruntime140_1.dll\n",
      "11/08/2018  07:22 AM             8,248 vscode_eula.txt\n",
      "01/07/2022  04:39 PM               828 vscode_inst.py.log\n",
      "05/13/2018  05:23 PM           293,888 xlwings32-0.11.8.dll\n",
      "05/13/2018  05:23 PM           367,104 xlwings64-0.11.8.dll\n",
      "              66 File(s)     19,554,887 bytes\n",
      "              23 Dir(s)  187,396,886,528 bytes free\n"
     ]
    }
   ],
   "source": [
    "ls"
   ]
  },
  {
   "cell_type": "code",
   "execution_count": 5,
   "metadata": {},
   "outputs": [
    {
     "name": "stdout",
     "output_type": "stream",
     "text": [
      "C:\\Users\\leman\n"
     ]
    }
   ],
   "source": [
    "cd"
   ]
  },
  {
   "cell_type": "code",
   "execution_count": 6,
   "metadata": {},
   "outputs": [
    {
     "name": "stdout",
     "output_type": "stream",
     "text": [
      " Volume in drive C is Windows\n",
      " Volume Serial Number is DCB2-D96B\n",
      "\n",
      " Directory of C:\\Users\\leman\n",
      "\n",
      "01/07/2022  05:43 PM    <DIR>          .\n",
      "01/07/2022  05:43 PM    <DIR>          ..\n",
      "01/07/2022  04:46 PM    <DIR>          .anaconda\n",
      "10/30/2020  06:30 PM    <DIR>          .android\n",
      "01/07/2022  05:25 PM    <DIR>          .atom\n",
      "01/08/2022  03:07 PM    <DIR>          .conda\n",
      "01/07/2022  05:27 PM                43 .condarc\n",
      "01/07/2022  05:30 PM    <DIR>          .continuum\n",
      "10/15/2021  10:46 AM    <DIR>          .dotnet\n",
      "01/07/2022  05:43 PM    <DIR>          .ipynb_checkpoints\n",
      "01/07/2022  05:43 PM    <DIR>          .ipython\n",
      "10/30/2020  08:16 PM    <DIR>          .mitmproxy\n",
      "10/30/2020  06:56 PM             6,056 -1.14-windows.xml\n",
      "09/09/2020  09:16 PM    <DIR>          3D Objects\n",
      "01/07/2022  05:29 PM    <DIR>          Anaconda3\n",
      "06/10/2021  10:45 AM    <DIR>          ansel\n",
      "10/30/2020  12:37 PM    <DIR>          Apple\n",
      "09/09/2020  09:16 PM    <DIR>          Contacts\n",
      "01/07/2022  05:55 PM    <DIR>          Documents\n",
      "01/07/2022  05:40 PM    <DIR>          Downloads\n",
      "09/13/2020  09:46 PM    <DIR>          Favorites\n",
      "09/09/2020  09:16 PM    <DIR>          Links\n",
      "10/30/2020  12:32 PM    <DIR>          Music\n",
      "01/07/2022  05:30 PM    <DIR>          OneDrive\n",
      "09/09/2020  09:16 PM    <DIR>          Saved Games\n",
      "09/09/2020  09:17 PM    <DIR>          Searches\n",
      "10/02/2020  02:42 PM    <DIR>          Videos\n",
      "               2 File(s)          6,099 bytes\n",
      "              25 Dir(s)  187,396,943,872 bytes free\n"
     ]
    }
   ],
   "source": [
    "ls"
   ]
  },
  {
   "cell_type": "code",
   "execution_count": 7,
   "metadata": {},
   "outputs": [
    {
     "name": "stdout",
     "output_type": "stream",
     "text": [
      "C:\\Users\\leman\\Documents\n"
     ]
    }
   ],
   "source": [
    "cd Documents"
   ]
  },
  {
   "cell_type": "code",
   "execution_count": 8,
   "metadata": {},
   "outputs": [
    {
     "name": "stdout",
     "output_type": "stream",
     "text": [
      " Volume in drive C is Windows\n",
      " Volume Serial Number is DCB2-D96B\n",
      "\n",
      " Directory of C:\\Users\\leman\\Documents\n",
      "\n",
      "01/07/2022  05:55 PM    <DIR>          .\n",
      "01/07/2022  05:55 PM    <DIR>          ..\n",
      "01/08/2022  03:05 PM    <DIR>          cms-workshop\n",
      "               0 File(s)              0 bytes\n",
      "               3 Dir(s)  187,396,907,008 bytes free\n"
     ]
    }
   ],
   "source": [
    "ls"
   ]
  },
  {
   "cell_type": "code",
   "execution_count": 9,
   "metadata": {},
   "outputs": [
    {
     "name": "stdout",
     "output_type": "stream",
     "text": [
      "C:\\Users\\leman\\Documents\\cms-workshop\n"
     ]
    }
   ],
   "source": [
    "cd cms-workshop"
   ]
  },
  {
   "cell_type": "code",
   "execution_count": 10,
   "metadata": {},
   "outputs": [
    {
     "name": "stdout",
     "output_type": "stream",
     "text": [
      " Volume in drive C is Windows\n",
      " Volume Serial Number is DCB2-D96B\n",
      "\n",
      " Directory of C:\\Users\\leman\\Documents\\cms-workshop\n",
      "\n",
      "01/08/2022  03:05 PM    <DIR>          .\n",
      "01/08/2022  03:05 PM    <DIR>          ..\n",
      "01/08/2022  03:05 PM    <DIR>          .ipynb_checkpoints\n",
      "01/08/2022  03:06 PM    <DIR>          data\n",
      "01/07/2022  05:36 PM           237,019 data.zip\n",
      "01/08/2022  03:04 PM            10,516 MolSSI Workshop.ipynb\n",
      "01/08/2022  03:05 PM            10,516 MolSSI Workshop-Copy1.ipynb\n",
      "               3 File(s)        258,051 bytes\n",
      "               4 Dir(s)  187,396,915,200 bytes free\n"
     ]
    }
   ],
   "source": [
    "ls"
   ]
  },
  {
   "cell_type": "code",
   "execution_count": 11,
   "metadata": {},
   "outputs": [
    {
     "name": "stdout",
     "output_type": "stream",
     "text": [
      "C:\\Users\\leman\\Documents\\cms-workshop\\data\n"
     ]
    }
   ],
   "source": [
    "cd data"
   ]
  },
  {
   "cell_type": "code",
   "execution_count": 12,
   "metadata": {},
   "outputs": [
    {
     "name": "stdout",
     "output_type": "stream",
     "text": [
      " Volume in drive C is Windows\n",
      " Volume Serial Number is DCB2-D96B\n",
      "\n",
      " Directory of C:\\Users\\leman\\Documents\\cms-workshop\\data\n",
      "\n",
      "01/08/2022  03:06 PM    <DIR>          .\n",
      "01/08/2022  03:06 PM    <DIR>          ..\n",
      "01/08/2022  03:06 PM    <DIR>          .ipynb_checkpoints\n",
      "01/07/2022  05:40 PM           212,934 03_Prod.mdout\n",
      "01/07/2022  05:40 PM               619 benzene.xyz\n",
      "01/07/2022  05:40 PM             2,471 buckminsterfullerene.xyz\n",
      "01/08/2022  03:06 PM                72 dir.ipynb\n",
      "01/07/2022  05:40 PM           355,359 distance_data_headers.csv\n",
      "01/07/2022  05:40 PM    <DIR>          outfiles\n",
      "01/07/2022  05:40 PM            61,568 sapt.out\n",
      "01/07/2022  05:40 PM               155 water.xyz\n",
      "               7 File(s)        633,178 bytes\n",
      "               4 Dir(s)  187,396,861,952 bytes free\n"
     ]
    }
   ],
   "source": [
    "ls"
   ]
  },
  {
   "cell_type": "code",
   "execution_count": null,
   "metadata": {},
   "outputs": [],
   "source": [
    "import x"
   ]
  },
  {
   "cell_type": "code",
   "execution_count": null,
   "metadata": {},
   "outputs": [],
   "source": [
    "1 + 1"
   ]
  },
  {
   "cell_type": "code",
   "execution_count": null,
   "metadata": {},
   "outputs": [],
   "source": [
    "import pandas"
   ]
  },
  {
   "cell_type": "code",
   "execution_count": null,
   "metadata": {},
   "outputs": [],
   "source": [
    "1 + 1"
   ]
  },
  {
   "cell_type": "code",
   "execution_count": null,
   "metadata": {},
   "outputs": [],
   "source": []
  }
 ],
 "metadata": {
  "kernelspec": {
   "display_name": "Python 3",
   "language": "python",
   "name": "python3"
  },
  "language_info": {
   "codemirror_mode": {
    "name": "ipython",
    "version": 3
   },
   "file_extension": ".py",
   "mimetype": "text/x-python",
   "name": "python",
   "nbconvert_exporter": "python",
   "pygments_lexer": "ipython3",
   "version": "3.7.0"
  }
 },
 "nbformat": 4,
 "nbformat_minor": 2
}
